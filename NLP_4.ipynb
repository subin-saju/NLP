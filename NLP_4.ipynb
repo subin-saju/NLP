{
  "nbformat": 4,
  "nbformat_minor": 0,
  "metadata": {
    "colab": {
      "provenance": [],
      "mount_file_id": "1GbosZKGEYGzYHoSc8OLvQ6c_wrfcAy7m",
      "authorship_tag": "ABX9TyNlHQ7yz2XvudcgaVKOac9N",
      "include_colab_link": true
    },
    "kernelspec": {
      "name": "python3",
      "display_name": "Python 3"
    },
    "language_info": {
      "name": "python"
    }
  },
  "cells": [
    {
      "cell_type": "markdown",
      "metadata": {
        "id": "view-in-github",
        "colab_type": "text"
      },
      "source": [
        "<a href=\"https://colab.research.google.com/github/subin-saju/NLP/blob/main/NLP_4.ipynb\" target=\"_parent\"><img src=\"https://colab.research.google.com/assets/colab-badge.svg\" alt=\"Open In Colab\"/></a>"
      ]
    },
    {
      "cell_type": "code",
      "execution_count": 1,
      "metadata": {
        "colab": {
          "base_uri": "https://localhost:8080/"
        },
        "id": "jpO5GtmgNHmH",
        "outputId": "42c1dc74-f8b6-4453-b067-029a9321c6c9",
        "collapsed": true
      },
      "outputs": [
        {
          "output_type": "stream",
          "name": "stdout",
          "text": [
            "Collecting en-core-web-lg==3.7.1\n",
            "  Downloading https://github.com/explosion/spacy-models/releases/download/en_core_web_lg-3.7.1/en_core_web_lg-3.7.1-py3-none-any.whl (587.7 MB)\n",
            "\u001b[2K     \u001b[90m━━━━━━━━━━━━━━━━━━━━━━━━━━━━━━━━━━━━━━━━\u001b[0m \u001b[32m587.7/587.7 MB\u001b[0m \u001b[31m1.7 MB/s\u001b[0m eta \u001b[36m0:00:00\u001b[0m\n",
            "\u001b[?25hRequirement already satisfied: spacy<3.8.0,>=3.7.2 in /usr/local/lib/python3.10/dist-packages (from en-core-web-lg==3.7.1) (3.7.5)\n",
            "Requirement already satisfied: spacy-legacy<3.1.0,>=3.0.11 in /usr/local/lib/python3.10/dist-packages (from spacy<3.8.0,>=3.7.2->en-core-web-lg==3.7.1) (3.0.12)\n",
            "Requirement already satisfied: spacy-loggers<2.0.0,>=1.0.0 in /usr/local/lib/python3.10/dist-packages (from spacy<3.8.0,>=3.7.2->en-core-web-lg==3.7.1) (1.0.5)\n",
            "Requirement already satisfied: murmurhash<1.1.0,>=0.28.0 in /usr/local/lib/python3.10/dist-packages (from spacy<3.8.0,>=3.7.2->en-core-web-lg==3.7.1) (1.0.10)\n",
            "Requirement already satisfied: cymem<2.1.0,>=2.0.2 in /usr/local/lib/python3.10/dist-packages (from spacy<3.8.0,>=3.7.2->en-core-web-lg==3.7.1) (2.0.8)\n",
            "Requirement already satisfied: preshed<3.1.0,>=3.0.2 in /usr/local/lib/python3.10/dist-packages (from spacy<3.8.0,>=3.7.2->en-core-web-lg==3.7.1) (3.0.9)\n",
            "Requirement already satisfied: thinc<8.3.0,>=8.2.2 in /usr/local/lib/python3.10/dist-packages (from spacy<3.8.0,>=3.7.2->en-core-web-lg==3.7.1) (8.2.5)\n",
            "Requirement already satisfied: wasabi<1.2.0,>=0.9.1 in /usr/local/lib/python3.10/dist-packages (from spacy<3.8.0,>=3.7.2->en-core-web-lg==3.7.1) (1.1.3)\n",
            "Requirement already satisfied: srsly<3.0.0,>=2.4.3 in /usr/local/lib/python3.10/dist-packages (from spacy<3.8.0,>=3.7.2->en-core-web-lg==3.7.1) (2.4.8)\n",
            "Requirement already satisfied: catalogue<2.1.0,>=2.0.6 in /usr/local/lib/python3.10/dist-packages (from spacy<3.8.0,>=3.7.2->en-core-web-lg==3.7.1) (2.0.10)\n",
            "Requirement already satisfied: weasel<0.5.0,>=0.1.0 in /usr/local/lib/python3.10/dist-packages (from spacy<3.8.0,>=3.7.2->en-core-web-lg==3.7.1) (0.4.1)\n",
            "Requirement already satisfied: typer<1.0.0,>=0.3.0 in /usr/local/lib/python3.10/dist-packages (from spacy<3.8.0,>=3.7.2->en-core-web-lg==3.7.1) (0.12.3)\n",
            "Requirement already satisfied: tqdm<5.0.0,>=4.38.0 in /usr/local/lib/python3.10/dist-packages (from spacy<3.8.0,>=3.7.2->en-core-web-lg==3.7.1) (4.66.4)\n",
            "Requirement already satisfied: requests<3.0.0,>=2.13.0 in /usr/local/lib/python3.10/dist-packages (from spacy<3.8.0,>=3.7.2->en-core-web-lg==3.7.1) (2.31.0)\n",
            "Requirement already satisfied: pydantic!=1.8,!=1.8.1,<3.0.0,>=1.7.4 in /usr/local/lib/python3.10/dist-packages (from spacy<3.8.0,>=3.7.2->en-core-web-lg==3.7.1) (2.7.4)\n",
            "Requirement already satisfied: jinja2 in /usr/local/lib/python3.10/dist-packages (from spacy<3.8.0,>=3.7.2->en-core-web-lg==3.7.1) (3.1.4)\n",
            "Requirement already satisfied: setuptools in /usr/local/lib/python3.10/dist-packages (from spacy<3.8.0,>=3.7.2->en-core-web-lg==3.7.1) (67.7.2)\n",
            "Requirement already satisfied: packaging>=20.0 in /usr/local/lib/python3.10/dist-packages (from spacy<3.8.0,>=3.7.2->en-core-web-lg==3.7.1) (24.1)\n",
            "Requirement already satisfied: langcodes<4.0.0,>=3.2.0 in /usr/local/lib/python3.10/dist-packages (from spacy<3.8.0,>=3.7.2->en-core-web-lg==3.7.1) (3.4.0)\n",
            "Requirement already satisfied: numpy>=1.19.0 in /usr/local/lib/python3.10/dist-packages (from spacy<3.8.0,>=3.7.2->en-core-web-lg==3.7.1) (1.25.2)\n",
            "Requirement already satisfied: language-data>=1.2 in /usr/local/lib/python3.10/dist-packages (from langcodes<4.0.0,>=3.2.0->spacy<3.8.0,>=3.7.2->en-core-web-lg==3.7.1) (1.2.0)\n",
            "Requirement already satisfied: annotated-types>=0.4.0 in /usr/local/lib/python3.10/dist-packages (from pydantic!=1.8,!=1.8.1,<3.0.0,>=1.7.4->spacy<3.8.0,>=3.7.2->en-core-web-lg==3.7.1) (0.7.0)\n",
            "Requirement already satisfied: pydantic-core==2.18.4 in /usr/local/lib/python3.10/dist-packages (from pydantic!=1.8,!=1.8.1,<3.0.0,>=1.7.4->spacy<3.8.0,>=3.7.2->en-core-web-lg==3.7.1) (2.18.4)\n",
            "Requirement already satisfied: typing-extensions>=4.6.1 in /usr/local/lib/python3.10/dist-packages (from pydantic!=1.8,!=1.8.1,<3.0.0,>=1.7.4->spacy<3.8.0,>=3.7.2->en-core-web-lg==3.7.1) (4.12.2)\n",
            "Requirement already satisfied: charset-normalizer<4,>=2 in /usr/local/lib/python3.10/dist-packages (from requests<3.0.0,>=2.13.0->spacy<3.8.0,>=3.7.2->en-core-web-lg==3.7.1) (3.3.2)\n",
            "Requirement already satisfied: idna<4,>=2.5 in /usr/local/lib/python3.10/dist-packages (from requests<3.0.0,>=2.13.0->spacy<3.8.0,>=3.7.2->en-core-web-lg==3.7.1) (3.7)\n",
            "Requirement already satisfied: urllib3<3,>=1.21.1 in /usr/local/lib/python3.10/dist-packages (from requests<3.0.0,>=2.13.0->spacy<3.8.0,>=3.7.2->en-core-web-lg==3.7.1) (2.0.7)\n",
            "Requirement already satisfied: certifi>=2017.4.17 in /usr/local/lib/python3.10/dist-packages (from requests<3.0.0,>=2.13.0->spacy<3.8.0,>=3.7.2->en-core-web-lg==3.7.1) (2024.6.2)\n",
            "Requirement already satisfied: blis<0.8.0,>=0.7.8 in /usr/local/lib/python3.10/dist-packages (from thinc<8.3.0,>=8.2.2->spacy<3.8.0,>=3.7.2->en-core-web-lg==3.7.1) (0.7.11)\n",
            "Requirement already satisfied: confection<1.0.0,>=0.0.1 in /usr/local/lib/python3.10/dist-packages (from thinc<8.3.0,>=8.2.2->spacy<3.8.0,>=3.7.2->en-core-web-lg==3.7.1) (0.1.5)\n",
            "Requirement already satisfied: click>=8.0.0 in /usr/local/lib/python3.10/dist-packages (from typer<1.0.0,>=0.3.0->spacy<3.8.0,>=3.7.2->en-core-web-lg==3.7.1) (8.1.7)\n",
            "Requirement already satisfied: shellingham>=1.3.0 in /usr/local/lib/python3.10/dist-packages (from typer<1.0.0,>=0.3.0->spacy<3.8.0,>=3.7.2->en-core-web-lg==3.7.1) (1.5.4)\n",
            "Requirement already satisfied: rich>=10.11.0 in /usr/local/lib/python3.10/dist-packages (from typer<1.0.0,>=0.3.0->spacy<3.8.0,>=3.7.2->en-core-web-lg==3.7.1) (13.7.1)\n",
            "Requirement already satisfied: cloudpathlib<1.0.0,>=0.7.0 in /usr/local/lib/python3.10/dist-packages (from weasel<0.5.0,>=0.1.0->spacy<3.8.0,>=3.7.2->en-core-web-lg==3.7.1) (0.18.1)\n",
            "Requirement already satisfied: smart-open<8.0.0,>=5.2.1 in /usr/local/lib/python3.10/dist-packages (from weasel<0.5.0,>=0.1.0->spacy<3.8.0,>=3.7.2->en-core-web-lg==3.7.1) (7.0.4)\n",
            "Requirement already satisfied: MarkupSafe>=2.0 in /usr/local/lib/python3.10/dist-packages (from jinja2->spacy<3.8.0,>=3.7.2->en-core-web-lg==3.7.1) (2.1.5)\n",
            "Requirement already satisfied: marisa-trie>=0.7.7 in /usr/local/lib/python3.10/dist-packages (from language-data>=1.2->langcodes<4.0.0,>=3.2.0->spacy<3.8.0,>=3.7.2->en-core-web-lg==3.7.1) (1.2.0)\n",
            "Requirement already satisfied: markdown-it-py>=2.2.0 in /usr/local/lib/python3.10/dist-packages (from rich>=10.11.0->typer<1.0.0,>=0.3.0->spacy<3.8.0,>=3.7.2->en-core-web-lg==3.7.1) (3.0.0)\n",
            "Requirement already satisfied: pygments<3.0.0,>=2.13.0 in /usr/local/lib/python3.10/dist-packages (from rich>=10.11.0->typer<1.0.0,>=0.3.0->spacy<3.8.0,>=3.7.2->en-core-web-lg==3.7.1) (2.16.1)\n",
            "Requirement already satisfied: wrapt in /usr/local/lib/python3.10/dist-packages (from smart-open<8.0.0,>=5.2.1->weasel<0.5.0,>=0.1.0->spacy<3.8.0,>=3.7.2->en-core-web-lg==3.7.1) (1.14.1)\n",
            "Requirement already satisfied: mdurl~=0.1 in /usr/local/lib/python3.10/dist-packages (from markdown-it-py>=2.2.0->rich>=10.11.0->typer<1.0.0,>=0.3.0->spacy<3.8.0,>=3.7.2->en-core-web-lg==3.7.1) (0.1.2)\n",
            "Installing collected packages: en-core-web-lg\n",
            "Successfully installed en-core-web-lg-3.7.1\n",
            "\u001b[38;5;2m✔ Download and installation successful\u001b[0m\n",
            "You can now load the package via spacy.load('en_core_web_lg')\n",
            "\u001b[38;5;3m⚠ Restart to reload dependencies\u001b[0m\n",
            "If you are in a Jupyter or Colab notebook, you may need to restart Python in\n",
            "order to load all the package's dependencies. You can do this by selecting the\n",
            "'Restart kernel' or 'Restart runtime' option.\n"
          ]
        }
      ],
      "source": [
        "!python -m spacy download en_core_web_lg"
      ]
    },
    {
      "cell_type": "code",
      "source": [
        "import spacy\n",
        "nlp = spacy.load('en_core_web_lg')\n",
        "nlp(u'my life is hard').vector"
      ],
      "metadata": {
        "colab": {
          "base_uri": "https://localhost:8080/"
        },
        "id": "caRepE8RKoqk",
        "outputId": "ddff43b9-b643-4006-ecf3-7ac040d4633b"
      },
      "execution_count": 2,
      "outputs": [
        {
          "output_type": "execute_result",
          "data": {
            "text/plain": [
              "array([ 3.7218499e+00,  2.9601250e+00, -4.8216248e+00, -2.3034997e+00,\n",
              "        1.1621699e+00,  3.1845003e-01,  9.5192504e-01,  5.2634993e+00,\n",
              "       -6.5512252e-01,  2.1356251e+00,  1.0781075e+01, -2.1842492e-01,\n",
              "       -2.5663500e+00,  8.4514993e-01,  1.4639599e+00,  6.8915004e-01,\n",
              "        1.4360499e+00, -3.0329251e+00, -2.5132248e+00, -5.8676749e-01,\n",
              "       -5.7021499e-01,  5.7031250e-01, -1.0476000e+00, -5.9838247e+00,\n",
              "       -1.8863724e+00, -2.7719250e+00, -9.3449466e-03, -1.6978141e+00,\n",
              "       -2.8797252e+00,  6.2217202e+00,  9.2648041e-01,  3.4040751e+00,\n",
              "       -2.9566002e+00, -5.9282494e-01, -7.4247003e-01,  5.1295400e+00,\n",
              "       -1.6337525e+00,  4.5215750e+00,  6.2838998e+00,  1.4440799e+00,\n",
              "       -4.5647502e-01,  4.0010676e+00, -3.3653247e-01, -1.9026000e+00,\n",
              "       -3.0139253e-01,  4.2089248e+00,  1.0501449e+00, -4.2502751e+00,\n",
              "        8.5143995e-01,  3.4189000e+00,  1.6650200e+00,  3.9844996e-01,\n",
              "        2.4876752e+00, -5.5013752e+00,  1.2078750e+00, -4.9135747e+00,\n",
              "        4.3738499e+00, -2.1301150e+00, -2.2367249e+00,  4.0079274e+00,\n",
              "        6.6243496e+00,  1.4849303e+00, -1.6616524e+00, -1.6366750e+00,\n",
              "       -3.8456500e+00, -8.3746254e-01, -2.7903302e+00, -6.5015249e+00,\n",
              "        1.0133750e+00, -1.0440249e+00,  2.7172005e-01,  2.4009500e+00,\n",
              "       -8.6452502e-01,  2.5861001e+00,  4.1986923e+00, -6.5506250e-01,\n",
              "       -6.3143253e+00, -1.0484500e+00, -3.8531501e+00, -4.0204754e+00,\n",
              "       -7.2351079e+00, -9.5727742e-01,  5.5182495e+00, -3.1047342e+00,\n",
              "        1.6859996e-01,  2.4015675e+00, -1.8953500e+00,  1.7173499e+00,\n",
              "        3.4043322e+00,  7.7440006e-01,  1.0278549e+00, -9.5263749e-01,\n",
              "        5.1137495e-01, -1.0467375e+01, -3.6456749e+00, -3.4168026e+00,\n",
              "        1.5196249e+00,  9.0215254e-01, -1.4398501e+00, -7.0888252e+00,\n",
              "        2.2076750e+00,  1.6949251e+00,  3.3077126e+00,  1.3293252e+00,\n",
              "        2.0682626e+00,  5.3355255e+00, -2.3368950e+00,  1.1521500e+00,\n",
              "       -2.5275900e+00,  4.3785353e+00,  5.0037003e-01,  6.9562507e-01,\n",
              "       -2.0930750e+00,  1.2446576e+00,  1.9356800e+00,  3.6162000e+00,\n",
              "       -3.2441249e+00, -2.9019253e+00, -1.0263849e+00, -6.2624961e-03,\n",
              "       -4.3557501e+00, -1.8639400e+00, -3.6860774e+00,  3.7088761e+00,\n",
              "        6.3152492e-01,  6.5308499e-01,  2.3421500e+00, -2.1145899e+00,\n",
              "       -7.7527499e-01, -2.5010991e-01, -1.1152251e+00, -8.0672497e-01,\n",
              "        3.1487999e+00, -6.0240245e+00, -7.6140004e-01,  5.7326001e-01,\n",
              "        1.0534825e+00, -3.8087997e+00,  4.8772573e+00, -3.1706247e+00,\n",
              "       -9.6366251e-01, -3.7032530e-02,  4.1201000e+00,  1.8620150e+00,\n",
              "        8.7672758e-01, -1.9629997e-01, -7.3010173e+00,  9.8015261e-01,\n",
              "        1.2330500e+00,  1.9966350e+00, -4.6967506e-01,  1.8173575e+00,\n",
              "        8.6210001e-01, -1.0395499e+00, -2.1918550e+00,  5.0516748e+00,\n",
              "        2.2908750e+00,  6.4570254e-01, -1.4132506e-01, -9.4290000e-01,\n",
              "       -1.2536701e+00, -5.7090616e+00, -2.6789743e-01,  1.7161624e+00,\n",
              "       -3.2773025e+00, -2.2526250e+00,  1.5480773e+00,  5.2666626e+00,\n",
              "       -5.8869994e-01, -1.8523175e+00,  4.4496651e+00, -1.6556952e+00,\n",
              "        3.5785000e+00,  2.2141399e+00,  2.9272752e+00, -5.0486751e+00,\n",
              "       -6.0994816e-01,  4.6921754e+00,  3.8501999e+00, -9.1826761e-01,\n",
              "       -1.8263025e+00,  1.8577502e+00,  8.3034496e+00,  2.9782510e-01,\n",
              "       -3.2001526e+00, -1.2068610e+00, -1.3186250e+00, -5.9469175e+00,\n",
              "       -9.4513249e-01,  2.3110251e+00, -1.5785750e+00,  2.4912248e+00,\n",
              "       -1.6651750e+00, -1.0660425e+00, -1.1087999e+00, -2.7658949e+00,\n",
              "       -2.5431499e+00,  3.2818525e+00,  4.6977749e+00,  9.0172505e-01,\n",
              "       -3.0190498e-01, -4.9837003e+00, -4.5021000e+00, -4.2493248e+00,\n",
              "       -1.7072499e+00, -6.0112011e-01, -4.6429725e+00,  2.1525240e-01,\n",
              "       -1.6786251e+00, -3.6321499e+00,  3.4659503e+00,  3.8290374e+00,\n",
              "       -5.0000548e-03,  2.5008075e+00, -3.3149276e+00, -1.0963801e+00,\n",
              "       -1.3632250e+00, -1.7733243e-01,  2.8355999e+00,  3.8530004e-01,\n",
              "       -3.1834998e+00,  9.7905260e-01,  2.4390502e+00,  1.3254499e+00,\n",
              "        1.0301375e+00, -1.2760251e+00,  3.1897503e-01, -1.4565001e+00,\n",
              "        2.9538150e+00,  1.1980057e-02, -1.9413425e+00, -5.7280002e+00,\n",
              "        4.4717503e+00,  2.5555749e+00, -6.8912749e+00,  3.2266822e+00,\n",
              "       -2.6953752e+00, -7.0461756e-01,  2.8735745e-01,  9.8211414e-01,\n",
              "       -4.3514500e+00,  2.1830852e+00,  3.5764999e+00,  9.1067511e-01,\n",
              "        3.8301003e-01, -2.0070000e+00, -4.6399946e+00, -5.0275028e-02,\n",
              "        5.2838755e+00,  3.8978376e+00, -2.5071602e+00,  5.8035505e-01,\n",
              "       -5.5844746e+00, -6.4737678e-02,  3.1710300e+00,  2.6502514e-01,\n",
              "        3.4254999e+00,  4.4079700e+00, -4.0960999e+00,  1.5105760e+00,\n",
              "       -3.7245011e-01,  5.5944247e+00,  5.6999502e+00,  6.4112101e+00,\n",
              "        3.2375000e+00,  1.3641751e+00, -2.5717251e+00,  2.9146800e+00,\n",
              "       -1.3016498e+00,  2.0462351e+00,  3.2410250e+00, -2.3259273e+00,\n",
              "       -3.1848500e+00, -1.4692250e+00, -2.0230150e+00,  2.8808248e+00,\n",
              "        2.4977750e-01,  3.2554750e+00, -5.9149480e-01,  1.1421449e+00,\n",
              "       -2.0818551e+00, -1.9887475e+00, -1.1849499e+00,  2.8391632e-01,\n",
              "        6.3776255e+00, -4.0219998e-01,  1.4290001e+00,  1.5419725e+00,\n",
              "       -4.8411250e+00, -1.7805749e-01,  5.1266499e+00, -2.0123076e+00,\n",
              "       -2.0427495e-02, -2.7518301e+00, -7.8334248e-01, -2.7909000e+00,\n",
              "       -2.1085625e+00,  6.3069248e-01, -9.8536673e+00,  1.3277576e+00],\n",
              "      dtype=float32)"
            ]
          },
          "metadata": {},
          "execution_count": 2
        }
      ]
    },
    {
      "cell_type": "code",
      "source": [
        "doc= nlp(u'king queen women girl')\n",
        "for token in doc:\n",
        "  for token2 in doc:\n",
        "    print(token.text, token2.text, token.similarity(token2))"
      ],
      "metadata": {
        "colab": {
          "base_uri": "https://localhost:8080/"
        },
        "id": "okc6WLSbLsPJ",
        "outputId": "5c9fe813-e5dd-4c5c-c125-04aea59d4e49"
      },
      "execution_count": 3,
      "outputs": [
        {
          "output_type": "stream",
          "name": "stdout",
          "text": [
            "king king 1.0\n",
            "king queen 0.6108841896057129\n",
            "king women 0.29560762643814087\n",
            "king girl 0.22843453288078308\n",
            "queen king 0.6108841896057129\n",
            "queen queen 1.0\n",
            "queen women 0.2537030875682831\n",
            "queen girl 0.4620419144630432\n",
            "women king 0.29560762643814087\n",
            "women queen 0.2537030875682831\n",
            "women women 1.0\n",
            "women girl 0.40738770365715027\n",
            "girl king 0.22843453288078308\n",
            "girl queen 0.4620419144630432\n",
            "girl women 0.40738770365715027\n",
            "girl girl 1.0\n"
          ]
        }
      ]
    },
    {
      "cell_type": "code",
      "source": [
        "doc=nlp(u'subin is hard to find')\n",
        "for token in doc:\n",
        "  print(token.text,token.has_vector,token.vector_norm,token.is_oov)"
      ],
      "metadata": {
        "colab": {
          "base_uri": "https://localhost:8080/"
        },
        "id": "HLWBCOmyM_8c",
        "outputId": "ef44bdb2-fe1a-4ba3-c1dd-af02845572e6"
      },
      "execution_count": 4,
      "outputs": [
        {
          "output_type": "stream",
          "name": "stdout",
          "text": [
            "subin False 0.0 True\n",
            "is True 110.41255 False\n",
            "hard True 62.075794 False\n",
            "to True 125.107445 False\n",
            "find True 65.980194 False\n"
          ]
        }
      ]
    },
    {
      "cell_type": "code",
      "source": [
        "from scipy import spatial\n",
        "cosine_similarity = lambda x, y: 1 - spatial.distance.cosine(x, y)\n",
        "k= nlp(u'king').vector\n",
        "q=nlp(u'queen').vector\n",
        "w=nlp(u'women').vector\n",
        "cosine_similarity(k,q)\n",
        "new_w=k-q+w\n",
        "cosine_similarity(new_w,w)\n",
        "n=[]\n",
        "for word in nlp.vocab:\n",
        "  if word.has_vector:\n",
        "    if word.is_lower:\n",
        "      if word.is_alpha:\n",
        "        simlilarity=cosine_similarity(new_w,word.vector)\n",
        "        n.append((word,simlilarity))\n",
        "n=sorted(n,key=lambda x:x[1],reverse=True)\n",
        "print([t[0].text for t in n[:10]])"
      ],
      "metadata": {
        "id": "zGgn095uNyNS",
        "colab": {
          "base_uri": "https://localhost:8080/"
        },
        "outputId": "ae24fd98-5d6d-4f83-b5d7-e1cc07eb093f"
      },
      "execution_count": 6,
      "outputs": [
        {
          "output_type": "stream",
          "name": "stdout",
          "text": [
            "['women', 'king', 'those', 'that', 'and', 'these', 'they', 'there', 'who', 'where']\n"
          ]
        }
      ]
    },
    {
      "cell_type": "code",
      "source": [
        "import nltk\n",
        "nltk.download('vader_lexicon')"
      ],
      "metadata": {
        "colab": {
          "base_uri": "https://localhost:8080/"
        },
        "id": "-L4hfIJneHLn",
        "outputId": "a17071c4-2594-44b4-a57c-cba8ce8ae7dc"
      },
      "execution_count": 7,
      "outputs": [
        {
          "output_type": "stream",
          "name": "stderr",
          "text": [
            "[nltk_data] Downloading package vader_lexicon to /root/nltk_data...\n"
          ]
        },
        {
          "output_type": "execute_result",
          "data": {
            "text/plain": [
              "True"
            ]
          },
          "metadata": {},
          "execution_count": 7
        }
      ]
    },
    {
      "cell_type": "code",
      "source": [
        "from nltk.sentiment.vader import SentimentIntensityAnalyzer\n",
        "sid = SentimentIntensityAnalyzer()\n",
        "sid.polarity_scores('happy life  ')"
      ],
      "metadata": {
        "colab": {
          "base_uri": "https://localhost:8080/"
        },
        "id": "DpfgdD7zhB0R",
        "outputId": "d8359ffc-92cf-4ad7-e67a-4b4912eb6f7a"
      },
      "execution_count": 19,
      "outputs": [
        {
          "output_type": "execute_result",
          "data": {
            "text/plain": [
              "{'neg': 0.0, 'neu': 0.213, 'pos': 0.787, 'compound': 0.5719}"
            ]
          },
          "metadata": {},
          "execution_count": 19
        }
      ]
    },
    {
      "cell_type": "code",
      "source": [
        "sid.polarity_scores('sad life ')"
      ],
      "metadata": {
        "colab": {
          "base_uri": "https://localhost:8080/"
        },
        "id": "wIrwQuJgfGCP",
        "outputId": "a83c90e5-5d71-44f3-e784-a5e3d777854f"
      },
      "execution_count": 15,
      "outputs": [
        {
          "output_type": "execute_result",
          "data": {
            "text/plain": [
              "{'neg': 0.756, 'neu': 0.244, 'pos': 0.0, 'compound': -0.4767}"
            ]
          },
          "metadata": {},
          "execution_count": 15
        }
      ]
    },
    {
      "cell_type": "code",
      "source": [
        "sid.polarity_scores('happy and sad life ')"
      ],
      "metadata": {
        "colab": {
          "base_uri": "https://localhost:8080/"
        },
        "id": "WY6Z9RhpfXb9",
        "outputId": "51c2f97e-3f54-412d-e5f0-03311804d680"
      },
      "execution_count": 18,
      "outputs": [
        {
          "output_type": "execute_result",
          "data": {
            "text/plain": [
              "{'neg': 0.352, 'neu': 0.227, 'pos': 0.42, 'compound': 0.1531}"
            ]
          },
          "metadata": {},
          "execution_count": 18
        }
      ]
    }
  ]
}
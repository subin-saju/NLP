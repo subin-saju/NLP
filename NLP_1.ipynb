{
  "nbformat": 4,
  "nbformat_minor": 0,
  "metadata": {
    "colab": {
      "provenance": []
    },
    "kernelspec": {
      "name": "python3",
      "display_name": "Python 3"
    },
    "language_info": {
      "name": "python"
    }
  },
  "cells": [
    {
      "cell_type": "code",
      "execution_count": 34,
      "metadata": {
        "id": "vuX2gDLWiQIl",
        "colab": {
          "base_uri": "https://localhost:8080/"
        },
        "collapsed": true,
        "outputId": "0aced4c2-1896-41f5-cf4f-358df3688f1d"
      },
      "outputs": [
        {
          "output_type": "stream",
          "name": "stdout",
          "text": [
            "my name is subin \n"
          ]
        }
      ],
      "source": [
        "person=\"subin\"\n",
        "print(f\"my name is {person} \")"
      ]
    },
    {
      "cell_type": "code",
      "source": [
        "libiray={('book','writer','pages'),('king','subin',900),('god','subin',787),('time','kubin',909)}\n",
        "for(book,writer,pages) in libiray:\n",
        "   print(f\"{book:{20}}  {writer:{30}} {pages:{5}}\")"
      ],
      "metadata": {
        "colab": {
          "base_uri": "https://localhost:8080/"
        },
        "collapsed": true,
        "id": "9zzAnA46k4sE",
        "outputId": "765b17d9-4cf7-481c-fb30-187e2df14baf"
      },
      "execution_count": 3,
      "outputs": [
        {
          "output_type": "stream",
          "name": "stdout",
          "text": [
            "god                   subin                            787\n",
            "book                  writer                         pages\n",
            "king                  subin                            900\n",
            "time                  kubin                            909\n"
          ]
        }
      ]
    },
    {
      "cell_type": "code",
      "source": [
        "pwd"
      ],
      "metadata": {
        "colab": {
          "base_uri": "https://localhost:8080/",
          "height": 35
        },
        "id": "Dz0JjjdJn7MA",
        "outputId": "c169c487-e83e-40a6-8d69-69f0d6c4e938"
      },
      "execution_count": 2,
      "outputs": [
        {
          "output_type": "execute_result",
          "data": {
            "text/plain": [
              "'/content'"
            ],
            "application/vnd.google.colaboratory.intrinsic+json": {
              "type": "string"
            }
          },
          "metadata": {},
          "execution_count": 2
        }
      ]
    },
    {
      "cell_type": "code",
      "source": [
        "pip install PyPDF2"
      ],
      "metadata": {
        "colab": {
          "base_uri": "https://localhost:8080/"
        },
        "id": "hm6szzb9EEhJ",
        "outputId": "c7db74ca-f16e-438b-a0bf-cf5777a17529"
      },
      "execution_count": 37,
      "outputs": [
        {
          "output_type": "stream",
          "name": "stdout",
          "text": [
            "Collecting PyPDF2\n",
            "  Downloading pypdf2-3.0.1-py3-none-any.whl (232 kB)\n",
            "\u001b[?25l     \u001b[90m━━━━━━━━━━━━━━━━━━━━━━━━━━━━━━━━━━━━━━━━\u001b[0m \u001b[32m0.0/232.6 kB\u001b[0m \u001b[31m?\u001b[0m eta \u001b[36m-:--:--\u001b[0m\r\u001b[2K     \u001b[91m━━━━━━━━━━━━━━━━━━━━━━━━━━━━━━━━━━━━━━\u001b[0m\u001b[91m╸\u001b[0m\u001b[90m━\u001b[0m \u001b[32m225.3/232.6 kB\u001b[0m \u001b[31m7.4 MB/s\u001b[0m eta \u001b[36m0:00:01\u001b[0m\r\u001b[2K     \u001b[90m━━━━━━━━━━━━━━━━━━━━━━━━━━━━━━━━━━━━━━━━\u001b[0m \u001b[32m232.6/232.6 kB\u001b[0m \u001b[31m5.8 MB/s\u001b[0m eta \u001b[36m0:00:00\u001b[0m\n",
            "\u001b[?25hInstalling collected packages: PyPDF2\n",
            "Successfully installed PyPDF2-3.0.1\n"
          ]
        }
      ]
    },
    {
      "cell_type": "code",
      "source": [
        "import PyPDF2"
      ],
      "metadata": {
        "id": "zqTPII9mGbsN"
      },
      "execution_count": 38,
      "outputs": []
    },
    {
      "cell_type": "code",
      "source": [
        "myfile=open('/content/drive/MyDrive/US_Declaration.pdf','rb')\n",
        "pdf_reader=PyPDF2.PdfReader(myfile)\n",
        "len(pdf_reader.pages)\n",
        "p1=pdf_reader.pages[0-1]\n",
        "print(len(p1))"
      ],
      "metadata": {
        "colab": {
          "base_uri": "https://localhost:8080/"
        },
        "id": "8C3CpSXFF7b-",
        "outputId": "4caf3903-d7cc-4c74-e189-ff715a7b2f15"
      },
      "execution_count": 50,
      "outputs": [
        {
          "output_type": "stream",
          "name": "stdout",
          "text": [
            "5\n"
          ]
        }
      ]
    },
    {
      "cell_type": "code",
      "source": [
        "p1.extract_text()\n"
      ],
      "metadata": {
        "id": "4dIx9VQQIV3e",
        "outputId": "51c705d4-f801-490a-fe66-e602aca29d28",
        "colab": {
          "base_uri": "https://localhost:8080/",
          "height": 104
        }
      },
      "execution_count": 52,
      "outputs": [
        {
          "output_type": "execute_result",
          "data": {
            "text/plain": [
              "'   George Clymer\\n   James Smith\\n   George Taylor\\n   James Wilson\\n   George Ross\\n Delaware:\\n   Caesar Rodney\\n   George Read\\n   Thomas McKean \\n[Column 5] New York:\\n   Wi lliam Floyd\\n   Philip Livingston\\n   Francis L ewis\\n   Lewis Morris\\n New Jersey:\\n   Richard Stockton\\n   John Witherspoon\\n   Francis Hopkinson\\n   John Hart\\n   Abraham Clark \\n[Column 6] New Hampshire:\\n   Josiah Bartlett\\n   William Whipple\\n Massachusetts:\\n   Samuel Adams\\n   John Adams\\n   Robert Treat Paine\\n   Elbridge Gerry\\n Rhode Island:\\n   Stephen Hopkins\\n   William Ellery\\n Connecticut:\\n   Roger Sherman\\n   Samuel Huntington\\n   William Williams\\n   Oliver Wolcott\\n New Hampshire:\\n Matthew Thornton\\n '"
            ],
            "application/vnd.google.colaboratory.intrinsic+json": {
              "type": "string"
            }
          },
          "metadata": {},
          "execution_count": 52
        }
      ]
    },
    {
      "cell_type": "code",
      "source": [
        "# Import the PyPDF2 library.\n",
        "import PyPDF2\n",
        "\n",
        "# Open the PDF file in read-binary ('rb') mode.\n",
        "f = open('/content/drive/MyDrive/US_Declaration.pdf', 'rb')\n",
        "\n",
        "# Create a PdfReader object.\n",
        "pdf_reader2 = PyPDF2.PdfReader(f)\n",
        "page1=pdf_reader2.pages[0]\n",
        "pdf_writer = PyPDF2.PdfWriter()\n",
        "pdf_writer.add_page(page1)\n",
        "out=open('new.pdf','wb')\n",
        "pdf_writer.write(out)\n",
        "f.close()\n",
        "out.close()"
      ],
      "metadata": {
        "id": "fsa6FXf6M-bx"
      },
      "execution_count": 53,
      "outputs": []
    },
    {
      "cell_type": "code",
      "source": [
        "import PyPDF2\n",
        "newfile=open('/content/new.pdf','rb')\n",
        "pdf_reader3=PyPDF2.PdfReader(newfile)\n",
        "len(pdf_reader3.pages)"
      ],
      "metadata": {
        "id": "-d1hKze6P24b",
        "outputId": "c48d0445-757d-4180-a48e-39851a39ca5f",
        "colab": {
          "base_uri": "https://localhost:8080/"
        }
      },
      "execution_count": 54,
      "outputs": [
        {
          "output_type": "execute_result",
          "data": {
            "text/plain": [
              "1"
            ]
          },
          "metadata": {},
          "execution_count": 54
        }
      ]
    },
    {
      "cell_type": "code",
      "source": [
        "for(i) in page_text:\n",
        "  print(i)\n",
        "  print('\\n')\n",
        "  print('\\n')\n",
        "  print('\\n')\n",
        ""
      ],
      "metadata": {
        "collapsed": true,
        "id": "M6BPYLxlVzkf",
        "outputId": "89217d7c-f5b1-4f88-bf62-70caf17e389e",
        "colab": {
          "base_uri": "https://localhost:8080/"
        }
      },
      "execution_count": 32,
      "outputs": [
        {
          "output_type": "stream",
          "name": "stdout",
          "text": [
            "Declaration of Independence\n",
            "IN CONGRESS, July 4, 1776.  \n",
            "The unanimous Declaration of the thirteen united States of America,  \n",
            "When in the Course of human events, it becomes necessary for one people to dissolve thepolitical bands which have connected them with another, and to assume among the powers of theearth, the separate and equal station to which the Laws of Nature and of Nature's God entitlethem, a decent respect to the opinions of mankind requires that they should declare the causeswhich impel them to the separation. We hold these truths to be self-evident, that all men are created equal, that they are endowed bytheir Creator with certain unalienable Rights, that among these are Life, Liberty and the pursuit\n",
            "of Happiness.— \u0014That to secure these rights, Governments are instituted among Men, derivingtheir just powers from the consent of the governed,—  \u0014That whenever any Form of Government\n",
            "becomes destructive of these ends, it is the Right of the People to alter or to abolish it, and to\n",
            "institute new Government, laying its foundation on such principles and organizing its powers in\n",
            "such form, as to them shall seem most likely to effect their Safety and Happiness. Prudence,indeed, will dictate that Governments long established should not be changed for light andtransient causes; and accordingly all experience hath shewn, that mankind are more disposed to\n",
            "suffer, while evils are sufferable, than to right themselves by abolishing the forms to which theyare accustomed. But when a long train of abuses and usurpations, pursuing invariably the same\n",
            "Object evinces a design to reduce them under absolute Despotism, it is their right, it is their duty,\n",
            "to throw off such Government, and to provide new Guards for their future securit y.— \u0014Such has\n",
            "been the patient sufferance of these Colonies; and such is now the necessity which constrainsthem to alter their former Systems of Government. The history of the present King of GreatBritain is a history of repeated injuries and usurpations, all having in direct object the\n",
            "establishment of an absolute Tyranny over these States. To prove this, let Facts be submitted to a\n",
            "candid world. \n",
            "He has refused his Assent to Laws, the most wholesome and necessary for the\n",
            "public good.He has forbidden his Governors to pass Laws of immediate and pressingimportance, unless suspended in their operation till his Assent should be obtained;and when so suspended, he has utterly neglected to attend to them.He has refused to pass other Laws for the accommodation of large districts of\n",
            "people, unless those people would relinquish the right of Representation in theLegislature, a right inestimable to them and formidable to tyrants only. He has called together legislative bodies at places unusual, uncomfortable, and distantfrom the depository of their public Records, for the sole purpose of fatiguing them into\n",
            "compliance with his measures.\n",
            "\n",
            "\n",
            "\n",
            "\n",
            "\n",
            "\n",
            "He has dissolved Re presentative Ho uses repeatedly , for opposing wit h manly\n",
            "firmness his invasions on the rights of the people.\n",
            "He has refused for a long time, after such dissolutions, to cause others to be\n",
            "elected; whereby the Leg islative powers, incapable of Annihilation, have returned\n",
            "to the People at lar ge for their exe rcise; the State r emaining in the me an time\n",
            "exposed to all the dangers of invasion from without, and convulsions within.\n",
            "He has endeavou red to prevent the  population of these  States; for that pur pose\n",
            "obstructing the L aws for Natural ization of Foreig ners; refusing  to pass others to\n",
            "encourage their migrations hither, and raising the conditions of new\n",
            "Appropriations of  Lands.\n",
            "He has obstructed the Administration of Justice, by refusing his Assent to Laws\n",
            "for establishing  Judiciary pow ers.\n",
            "He has made Judge s dependent on his Wil l alone, for the te nure of their off ices,\n",
            "and the amount and  payment of t heir salaries.\n",
            "He has erected  a multitude of New  Offices, and se nt hither swarms of  Officers to\n",
            "harrass our people, and eat out their substance.\n",
            "He has kept among us, in times of peace, Standing Armies without the Consent of\n",
            "our legislature s.\n",
            "He has affected to render the Military independent of a nd superior to the Civil power.\n",
            "He has combined with others to subject us to a jurisdiction foreign to our\n",
            "constitution, and unacknowledged by our laws; giving his Assent to their Acts of\n",
            "pretended Legislation:\n",
            "For Quartering  large bodies of  armed troops amon g us:\n",
            "For protecting them, by a mock Trial, from punishment for any  Murders which\n",
            "they should c ommit on the Inha bitants of these Sta tes:\n",
            "For cutting off our Trade with all parts of the world:\n",
            "For imposing Taxe s on us without our Con sent: For deprivi ng us in many  cases,\n",
            "of the benefits of T rial by J ury:\n",
            "For transporting us beyond Seas to be tried for pretended of fences\n",
            "For abolishing the free System of English L aws in a neighbouring Province,\n",
            "establishing therein an Arbitrary government, and e nlarging its Boundaries so as\n",
            "\n",
            "\n",
            "\n",
            "\n",
            "\n",
            "\n",
            "to render it at onc e an example and fi t instrument for intr oducing the same\n",
            "absolute rule into  these Colonies:\n",
            "For taking away our Charters, abolishing our most valuable L aws, and altering\n",
            "fundamentally  the Forms of our G overnments:\n",
            "For suspending  our own Leg islatures, and de claring themse lves invested with\n",
            "power to legislate for us in all cases whatsoever.\n",
            "He has abdicated Government here, by declar ing us out of his Protection and\n",
            "waging War ag ainst us.\n",
            "He has plundered our seas, ravaged our Coasts, burnt our towns, and destroy ed the\n",
            "lives of our people.\n",
            "He is at this time transporting large Armies of foreign Mercenaries to compleat\n",
            "the works of death, desolation and tyranny , already begun with circumstances of\n",
            "Cruelty & pe rfidy scar cely para lleled in the most ba rbarous ages,  and totally\n",
            "unworthy of the Head of a civilized nation.\n",
            "He has constrained our fellow Citizens taken Captive on the high Seas to bear\n",
            "Arms against their Country, to become the executioners of their friends and\n",
            "Brethren, or to  fall themselves by  their Hands.\n",
            "He has excited domestic insurrections amongst us, and has endeavoured to bring\n",
            "on the inhabitants of our frontiers, the merciless Indian Savages, whose known\n",
            "rule of warfare, is an undistinguished destruction of all ages, sexes and conditions. \n",
            "In every  stage of these O ppressions We have  Petitioned for Redr ess in the most humble  terms:\n",
            "Our repeated Pe titions have been a nswered only  by repeate d injury. A Pr ince whose char acter is\n",
            "thus marked by every ac t which may define a Tyra nt, is unfit to be the ruler of a free people. \n",
            "Nor have We been wanting in attentions to our Brittish brethren. We have warned them from\n",
            "time to time  of attemp ts by th eir legi slature t o extend an  unwarra ntable jur isdiction  over us. We\n",
            "have reminded them of the circumstances of our emigration and settlement here. We have\n",
            "appealed to their native justice and magnanimity, and we have c onjured them by the ties of our\n",
            "common kindred to disavow these usurpations, which, would inevitably interrupt our\n",
            "connections and correspondence. They too have bee n deaf to the voice of justice and of\n",
            "consanguinity. We must, therefore, acquiesce in the necessity , which denounces our Separation,\n",
            "and hold them, as we hold the rest of mankind, Enemies in War, in Peace Friends. \n",
            "We, therefore, t he Representativ es of the united Sta tes of America, i n General Congr ess,\n",
            "Assembled, appealing to the Supreme Judge of the world for the rectitude of our intentions, do,\n",
            "in the Name, and by Authority of the g ood People of these Colonies, solemnly publish and\n",
            "declare, That th ese United Colonie s are, and of Rig ht ought to be Fre e and Indepe ndent States;\n",
            "that they are Absolved from all Allegiance to the British Crown, and that a ll political connection\n",
            "\n",
            "\n",
            "\n",
            "\n",
            "\n",
            "\n",
            "between them and the State of Great Britain, is and ought to be totally dissolved; and that as Freeand Independent States, they have full Power to levy War, conclude Peace, contract Alliances,\n",
            "establish Commerce, and to do all other Acts and Things which Independent States may of rightdo. And for the support of this Declaration, with a firm reliance on the protection of divineProvidence, we mutually pledge to each other our Lives, our Fortunes and our sacred Honor.[The 56 signatures on the Declaration were arranged in six columns: ] \n",
            "[Column 1] Georgia:\n",
            "   Button Gwinnett\n",
            "   Lyman Hall\n",
            "   George Walton \n",
            "[Column 2] North Carolina:\n",
            "   William Hooper\n",
            "   Joseph Hewes\n",
            "   John Penn\n",
            " South Carolina:\n",
            "   Edward Ru tledge\n",
            "   Thomas Heyward, Jr.\n",
            "  Thomas Lynch, Jr.\n",
            "  Arthur Middleton \n",
            "[Column 3] Massachusetts:\n",
            "   John Hancock Maryland:\n",
            "   Samuel Chase   William Paca   Thomas Stone   Charles Carroll of Carrollton Virginia:\n",
            "   George Wythe   Richard Henry Lee   Thomas Jefferson   Benjamin Harrison   Thomas Nelson, Jr.   Francis Lightfoot Lee   Carter Braxton [Column 4] Pennsylvania:\n",
            "  Robert Morris   Benjamin Rush\n",
            "   Benjamin Fran klin\n",
            "   John Morton\n",
            "\n",
            "\n",
            "\n",
            "\n",
            "\n",
            "\n",
            "   George Clymer\n",
            "   James Smith\n",
            "   George Taylor\n",
            "   James Wilson\n",
            "   George Ross\n",
            " Delaware:\n",
            "   Caesar Rodney\n",
            "   George Read\n",
            "   Thomas McKean \n",
            "[Column 5] New York:\n",
            "   Wi lliam Floyd\n",
            "   Philip Livingston\n",
            "   Francis L ewis\n",
            "   Lewis Morris\n",
            " New Jersey:\n",
            "   Richard Stockton\n",
            "   John Witherspoon\n",
            "   Francis Hopkinson\n",
            "   John Hart\n",
            "   Abraham Clark \n",
            "[Column 6] New Hampshire:\n",
            "   Josiah Bartlett\n",
            "   William Whipple\n",
            " Massachusetts:\n",
            "   Samuel Adams\n",
            "   John Adams\n",
            "   Robert Treat Paine\n",
            "   Elbridge Gerry\n",
            " Rhode Island:\n",
            "   Stephen Hopkins\n",
            "   William Ellery\n",
            " Connecticut:\n",
            "   Roger Sherman\n",
            "   Samuel Huntington\n",
            "   William Williams\n",
            "   Oliver Wolcott\n",
            " New Hampshire:\n",
            " Matthew Thornton\n",
            " \n",
            "\n",
            "\n",
            "\n",
            "\n",
            "\n",
            "\n"
          ]
        }
      ]
    },
    {
      "cell_type": "code",
      "source": [
        "page_text=[]\n",
        "f=open('/content/drive/MyDrive/US_Declaration.pdf','rb')\n",
        "pdf_reader=PyPDF2.PdfReader(f)\n",
        "for p in range(len(pdf_reader.pages)):\n",
        "  page_text.append(pdf_reader.pages[p].extract_text())\n",
        "f.close()\n",
        "\n",
        ""
      ],
      "metadata": {
        "id": "8K5Nbj3IRSeo"
      },
      "execution_count": 28,
      "outputs": []
    },
    {
      "cell_type": "code",
      "source": [
        "import re\n",
        "text=\"my phone number is 952-699-3121    phone  = 123-123-1234\"\n",
        "\"phone \"  in text\n",
        "pattern=\"phone\"\n",
        "k=re.search(pattern,text)"
      ],
      "metadata": {
        "id": "O076Y-AHWjZH"
      },
      "execution_count": 24,
      "outputs": []
    },
    {
      "cell_type": "code",
      "source": [
        "k.span()"
      ],
      "metadata": {
        "id": "u1ZWv2yU43vZ",
        "outputId": "b1d5ff7b-3fc1-47f9-de30-bac7e5537cf5",
        "colab": {
          "base_uri": "https://localhost:8080/"
        }
      },
      "execution_count": 10,
      "outputs": [
        {
          "output_type": "execute_result",
          "data": {
            "text/plain": [
              "(3, 8)"
            ]
          },
          "metadata": {},
          "execution_count": 10
        }
      ]
    },
    {
      "cell_type": "code",
      "source": [
        "re.findall('phone',text)"
      ],
      "metadata": {
        "id": "f0FlaIC25GRf",
        "outputId": "52cbbae5-1d87-42dd-b5f2-b3070acb4d78",
        "colab": {
          "base_uri": "https://localhost:8080/"
        }
      },
      "execution_count": 13,
      "outputs": [
        {
          "output_type": "execute_result",
          "data": {
            "text/plain": [
              "['phone', 'phone']"
            ]
          },
          "metadata": {},
          "execution_count": 13
        }
      ]
    },
    {
      "cell_type": "code",
      "source": [
        "for k in re.finditer('phone',text):\n",
        "  print(k.span())"
      ],
      "metadata": {
        "id": "-9sdNdTD5Vwy",
        "outputId": "26da6390-2d0f-4367-d8e7-4e5e5bf047ae",
        "colab": {
          "base_uri": "https://localhost:8080/"
        }
      },
      "execution_count": 14,
      "outputs": [
        {
          "output_type": "stream",
          "name": "stdout",
          "text": [
            "(3, 8)\n",
            "(33, 38)\n"
          ]
        }
      ]
    },
    {
      "cell_type": "code",
      "source": [
        "pattern =r'(\\d{3})-(\\d{3})-(\\d{4})'\n",
        "ki=re.search(pattern,text)\n",
        "if ki:\n",
        "    print(ki.group()) # Check if a match was found before trying to print the group.\n",
        "else:\n",
        "    print(\"No match found.\")"
      ],
      "metadata": {
        "id": "6mz3JoBA59LK",
        "outputId": "c886d9eb-bd87-4b73-bf31-f5326377f700",
        "colab": {
          "base_uri": "https://localhost:8080/"
        }
      },
      "execution_count": 25,
      "outputs": [
        {
          "output_type": "stream",
          "name": "stdout",
          "text": [
            "952-699-3121\n"
          ]
        }
      ]
    },
    {
      "cell_type": "code",
      "source": [
        "for k in re.finditer(pattern,text):\n",
        "  print(k.group())"
      ],
      "metadata": {
        "id": "rWKS6Ogu6oJ_",
        "outputId": "47ecee52-d6de-418c-a190-6072729766af",
        "colab": {
          "base_uri": "https://localhost:8080/"
        }
      },
      "execution_count": 26,
      "outputs": [
        {
          "output_type": "stream",
          "name": "stdout",
          "text": [
            "952-699-3121\n",
            "123-123-1234\n"
          ]
        }
      ]
    },
    {
      "cell_type": "code",
      "source": [
        "text2=\"cat bat sit at lat mat\"\n",
        "pat=r\"..t\"\n",
        "re.findall(pat,text2)"
      ],
      "metadata": {
        "id": "sAeY8ZT57uqf",
        "outputId": "7425c234-6acd-4913-d097-8d56d57deca9",
        "colab": {
          "base_uri": "https://localhost:8080/"
        }
      },
      "execution_count": 33,
      "outputs": [
        {
          "output_type": "execute_result",
          "data": {
            "text/plain": [
              "['cat', 'bat', 'sit', ' at', 'lat', 'mat']"
            ]
          },
          "metadata": {},
          "execution_count": 33
        }
      ]
    }
  ]
}